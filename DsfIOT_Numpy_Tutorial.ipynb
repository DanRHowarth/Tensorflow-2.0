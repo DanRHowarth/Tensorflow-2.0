{
  "nbformat": 4,
  "nbformat_minor": 0,
  "metadata": {
    "colab": {
      "name": "DsfIOT_Numpy Tutorial",
      "provenance": [],
      "collapsed_sections": [],
      "include_colab_link": true
    },
    "kernelspec": {
      "name": "python3",
      "display_name": "Python 3"
    }
  },
  "cells": [
    {
      "cell_type": "markdown",
      "metadata": {
        "id": "view-in-github",
        "colab_type": "text"
      },
      "source": [
        "<a href=\"https://colab.research.google.com/github/DanRHowarth/Tensorflow-2.0/blob/master/DsfIOT_Numpy_Tutorial.ipynb\" target=\"_parent\"><img src=\"https://colab.research.google.com/assets/colab-badge.svg\" alt=\"Open In Colab\"/></a>"
      ]
    },
    {
      "cell_type": "markdown",
      "metadata": {
        "id": "3KIiXVqiex-8",
        "colab_type": "text"
      },
      "source": [
        "# Data Science for the Internet of Things: Numpy Tutorial"
      ]
    },
    {
      "cell_type": "markdown",
      "metadata": {
        "id": "5QVOlDnXe7hK",
        "colab_type": "text"
      },
      "source": [
        "### This tutorial covers the following:\n",
        " 1. Overview of Numpy \n",
        " 2. Introduction to Numpy Arrays\n",
        "   *  Creating arrays \n",
        "   *  Locating elements of an array \n",
        "   *  Altering properties of an array, including it's `shape` and `datatype`\n",
        " 3. Performing operations on Arrays\n",
        "  * Arithmetic operations\n",
        "  * Boolean Operations \n",
        "  * Universal functions\n",
        " \n",
        "#### Exercises\n",
        " * Each section will have an exercise to help reinforce your learning. We suggest you:\n",
        "   * Write out each line of code by hand (rather than copy and paste it from the relevant example) - this will improve your understanding of code syntax\n",
        "   * Write out, above each line of code, an explanation as to what the code, using a comment `#` - this will improve your understanding of how the code works"
      ]
    },
    {
      "cell_type": "markdown",
      "metadata": {
        "id": "jxFeWxklf9Du",
        "colab_type": "text"
      },
      "source": [
        "### 1. Overview of Numpy\n",
        "\n",
        "\n",
        "* [Python for Data Analysis](https://www.amazon.co.uk/Python-Data-Analysis-Wrangling-IPython-ebook/dp/B075X4LT6K/ref=sr_1_1?s=digital-text&ie=UTF8&qid=1540755909&sr=1-1&keywords=python+for+data+analysis ) sets out the following benefits of the Numpy library: \n",
        "\n",
        "  * the `ndarray`, an efficient multidimensional array providing fast array-oriented arithmetic operations and flexible broadcasting capabilities.\n",
        "\n",
        "  * Mathematical functions for fast operations on entire arrays of data without having to write loops.\n",
        "\n",
        "  * Tools for reading/writing array data to disk and working with memory-mapped files.\n",
        "\n",
        "  * Linear algebra, random number generation, and Fourier transform capabilities.\n",
        "\n",
        "\n",
        "* It is designed for efficiency on large arrays of data because it internally stores data in a contiguous block of memory, independent of other built-in Python objects. Numpy operations perform complex computations on entire arrays without the need for Python for loops.\n",
        "\n",
        "* See *Python for Data Analysis*, or *[Python Data Science Handbook](https://jakevdp.github.io/PythonDataScienceHandbook/)* (free) for more background on the library and its benefits.\n"
      ]
    },
    {
      "cell_type": "code",
      "metadata": {
        "id": "qDS8J9qdhmAJ",
        "colab_type": "code",
        "colab": {}
      },
      "source": [
        "## this simple example will demonstrate the difference in efficiency between numpy and python \n",
        "\n",
        "# it is convention to import numpy this way\n",
        "import numpy as np\n",
        "\n",
        "# we create our first numpy array - we will come back to this type of operation later \n",
        "my_arr = np.arange(1000000)\n",
        "\n",
        "# create a python list with the same values, but this is obviously not stored as a numpy array\n",
        "my_list = list(range(1000000))"
      ],
      "execution_count": 0,
      "outputs": []
    },
    {
      "cell_type": "code",
      "metadata": {
        "id": "ijRQnOpgh_df",
        "colab_type": "code",
        "colab": {}
      },
      "source": [
        "## let's time home long an operation takes in numpy\n",
        "%time my_arr2 = my_arr * 2"
      ],
      "execution_count": 0,
      "outputs": []
    },
    {
      "cell_type": "code",
      "metadata": {
        "id": "xJRUSo4FPcmC",
        "colab_type": "code",
        "colab": {}
      },
      "source": [
        "# and compare it to the same operation in python\n",
        "%time my_list2 = [x * 2 for x in my_list]"
      ],
      "execution_count": 0,
      "outputs": []
    },
    {
      "cell_type": "markdown",
      "metadata": {
        "id": "2zqt3F1GiEi6",
        "colab_type": "text"
      },
      "source": [
        "### 2. Introduction to Numpy Arrays\n",
        "\n",
        "* The *N-dimensional array object*, or `ndarray`, is a fast, flexible container for large datasets in Python. Arrays enable you to perform mathematical operations on whole blocks of data using similar syntax to the equivalent operations between scalar elements.\n",
        "* In this section, we will cover:\n",
        "  * How to create arrays\n",
        "  * How to access different parts of the array \n",
        "  * The properties of arrays, and how to modify them."
      ]
    },
    {
      "cell_type": "markdown",
      "metadata": {
        "id": "LVNOHN7hifnc",
        "colab_type": "text"
      },
      "source": [
        "#### 2.1 Creating arrays\n",
        "* There are a number of different ways to create an array. We cover some of the main ways here, including:\n",
        "  * passing in values to the parameters of `np.array`\n",
        "  * `zeroes`: an array of zero values \n",
        "  * `ones`: an array of all ones \n",
        "  * `full`: an array of a specified constant value \n",
        "  * `random`: an array of random values\n",
        "  * `eye`: an array with ones on the diagonal and zeroes otherwise\n",
        "  * converting from a python list\n",
        "  * `arange`: an array with values within the range specified \n",
        "  * `linspace`: an array of equally spaced values within the upper and lower bounds specified\n",
        "  * `from pandas`\n",
        " \n"
      ]
    },
    {
      "cell_type": "code",
      "metadata": {
        "id": "5onuLDx6ZLLe",
        "colab_type": "code",
        "colab": {}
      },
      "source": [
        "# Create an array by passing in values  \n",
        "a = np.array([0, 1, 2]) \n",
        "a"
      ],
      "execution_count": 0,
      "outputs": []
    },
    {
      "cell_type": "code",
      "metadata": {
        "id": "5UYT_-vyh6Mn",
        "colab_type": "code",
        "colab": {}
      },
      "source": [
        "# Create a 2D array\n",
        "b = np.array([[0,1,2],[3,4,5]])  \n",
        "b"
      ],
      "execution_count": 0,
      "outputs": []
    },
    {
      "cell_type": "code",
      "metadata": {
        "id": "3vb8RDjrwClW",
        "colab_type": "code",
        "colab": {}
      },
      "source": [
        "# Create an array of all zeros - with three rows of three columns each \n",
        "c = np.zeros((3,3)) \n",
        "c"
      ],
      "execution_count": 0,
      "outputs": []
    },
    {
      "cell_type": "code",
      "metadata": {
        "id": "PzuRFsCAwYUx",
        "colab_type": "code",
        "colab": {}
      },
      "source": [
        "# Create a 2x2 array of all ones\n",
        "d = np.ones((2,2)) \n",
        "d"
      ],
      "execution_count": 0,
      "outputs": []
    },
    {
      "cell_type": "code",
      "metadata": {
        "id": "XxYqqjMkxJYI",
        "colab_type": "code",
        "colab": {}
      },
      "source": [
        "# Create a 3x3 constant array\n",
        "e = np.full((3,3), 7) \n",
        "e"
      ],
      "execution_count": 0,
      "outputs": []
    },
    {
      "cell_type": "code",
      "metadata": {
        "id": "REEwBbVBXx1X",
        "colab_type": "code",
        "colab": {}
      },
      "source": [
        "# Create a 3x3 array filled with random values\n",
        "f = np.random.random((3,3)) \n",
        "f"
      ],
      "execution_count": 0,
      "outputs": []
    },
    {
      "cell_type": "code",
      "metadata": {
        "id": "zNisQgDpYMPD",
        "colab_type": "code",
        "colab": {}
      },
      "source": [
        "# Create a 3x3 matrix with ones on the diagonal \n",
        "# np.identity also returns the same result \n",
        "g = np.eye(3)    \n",
        "g"
      ],
      "execution_count": 0,
      "outputs": []
    },
    {
      "cell_type": "code",
      "metadata": {
        "id": "GRs_J9kzYTuq",
        "colab_type": "code",
        "colab": {}
      },
      "source": [
        "# convert list to array\n",
        "h = list((2, 3, 1, 0))\n",
        "h = np.array(h) \n",
        "h"
      ],
      "execution_count": 0,
      "outputs": []
    },
    {
      "cell_type": "code",
      "metadata": {
        "id": "Eka1O6M6Yotd",
        "colab_type": "code",
        "colab": {}
      },
      "source": [
        "# arange() will create arrays with regularly incrementing values\n",
        "i = np.arange(20)\n",
        "i"
      ],
      "execution_count": 0,
      "outputs": []
    },
    {
      "cell_type": "code",
      "metadata": {
        "id": "PNZkdxria_7v",
        "colab_type": "code",
        "colab": {}
      },
      "source": [
        "# linspace() will create arrays with a specified number of items which are \n",
        "# spaced equally between the specified beginning and end values\n",
        "j = np.linspace(2., 4., 5)\n",
        "j"
      ],
      "execution_count": 0,
      "outputs": []
    },
    {
      "cell_type": "markdown",
      "metadata": {
        "id": "fTAItFP0XvDi",
        "colab_type": "text"
      },
      "source": [
        "#### EXERCISE 2.1: Creating an array\n",
        "* Create an array using the `np.arange()` function. \n",
        "* Use the [documentation](https://docs.scipy.org/doc/numpy-1.15.0/reference/generated/numpy.arange.html) to add start, stop and step parameters "
      ]
    },
    {
      "cell_type": "code",
      "metadata": {
        "id": "uKy7AZ_XYuP5",
        "colab_type": "code",
        "colab": {}
      },
      "source": [
        "## EXERCISE CODE HERE\n",
        "\n"
      ],
      "execution_count": 0,
      "outputs": []
    },
    {
      "cell_type": "markdown",
      "metadata": {
        "id": "z0YAQvcSSV5M",
        "colab_type": "text"
      },
      "source": [
        "#### 2.2 Accessing arrays\n",
        "\n",
        "* The elements of numpy arrays can be accessed using their index. Numpy (and Pandas) refers to elements *along* the rows as being on `axis 1`, and elements *down* the rows as being on `axis 0`. This is set out below:\n",
        "\n",
        "![alt text](https://www.safaribooksonline.com/library/view/python-for-data/9781491957653/assets/pyda_0401.png)\n",
        "\n",
        "* Indexing a 1D array is relatively straightforward as the index values are all on the same axis.\n",
        "* Indexing a 2D array (or higher dimensions) is slightly trickier, as we need to access `axis 0` first, and then `axis 1`.\n",
        "* The examples below should make this a little clearer. \n"
      ]
    },
    {
      "cell_type": "code",
      "metadata": {
        "id": "LzmzbGQCUaTt",
        "colab_type": "code",
        "colab": {}
      },
      "source": [
        "# lets go back to on the first array we created\n",
        "print(\"1D array:\\n\", a)\n",
        "\n",
        "# we can access the shape of the array like this\n",
        "print(\"\\nDimensions of array: \", a.shape)\n",
        "\n",
        "# and call the individual elements of the array using the element's index\n",
        "print(\"\\nFirst element of array: \", a[0])\n",
        "print(\"\\nSecond element of array: \", a[1])\n",
        "print(\"\\nThird element of array: \", a[2])"
      ],
      "execution_count": 0,
      "outputs": []
    },
    {
      "cell_type": "code",
      "metadata": {
        "id": "HCSWw_djU_VN",
        "colab_type": "code",
        "colab": {}
      },
      "source": [
        "# lets compare this to a 2D array\n",
        "print(\"2D array:\\n\", b)\n",
        "\n",
        "# and contrast the shape of this array with the shape of a\n",
        "print(\"\\nDimensions of 2D array: \", b.shape)\n",
        "\n",
        "# pause and make sure you understand how the values are being accessed\n",
        "print(\"\\nArray element [0,0]:\", b[0, 0])\n",
        "print(\"\\nArray elements [1,2] [0,1] [1,0]: \", b[1, 2], b[0, 1], b[1, 0])"
      ],
      "execution_count": 0,
      "outputs": []
    },
    {
      "cell_type": "code",
      "metadata": {
        "id": "XAS6j6-omJ58",
        "colab_type": "code",
        "colab": {}
      },
      "source": [
        "# We can also slice arrays, using the following approach:\n",
        "\n",
        "# a[start:end] # items start through end-1\n",
        "# a[start:]    # items start through the rest of the array\n",
        "# a[:end]      # items from the beginning through end-1\n",
        "# a[:]         # a copy of the whole array\n",
        "\n",
        "\n",
        "# The key point to remember is that the :end value represents the first value that is not in the selected slice. So, the difference \n",
        "# beween end and start is the number of elements selected (if step is 1, the default).\n",
        "# The other feature is that start or end may be a negative number, which means it counts from the end of the array \n",
        "# instead of the beginning. So:\n",
        "\n",
        "# a[-1]    # last item in the array\n",
        "# a[-2:]   # last two items in the array\n",
        "# a[:-2]   # everything except the last two items\n",
        "\n",
        "# create a new array\n",
        "k = np.array([1,2,3,4])\n",
        "\n",
        "# access the first two elements\n",
        "k[0:2]"
      ],
      "execution_count": 0,
      "outputs": []
    },
    {
      "cell_type": "code",
      "metadata": {
        "id": "PIW3JAOwjsjA",
        "colab_type": "code",
        "colab": {}
      },
      "source": [
        "# higher dimension slicing \n",
        "j = np.array([[1,2,3,4], [5,6,7,8], [9,10,11,12]])\n",
        "\n",
        "# access one row of the array\n",
        "j[2]"
      ],
      "execution_count": 0,
      "outputs": []
    },
    {
      "cell_type": "code",
      "metadata": {
        "id": "aq15Uy1RnmCY",
        "colab_type": "code",
        "colab": {}
      },
      "source": [
        "# access values within one row - note that we can also express this as j[2][:2]\n",
        "j[2,:2]"
      ],
      "execution_count": 0,
      "outputs": []
    },
    {
      "cell_type": "code",
      "metadata": {
        "id": "fuvVu0SxoLNX",
        "colab_type": "code",
        "colab": {}
      },
      "source": [
        "# access all the rows (axis 0) and two of the columns (axis 1)\n",
        "j[:,:2]"
      ],
      "execution_count": 0,
      "outputs": []
    },
    {
      "cell_type": "markdown",
      "metadata": {
        "id": "uRbSFcl7r6ot",
        "colab_type": "text"
      },
      "source": [
        "#### EXERCISE 2.2: Accessing Arrays \n",
        "* Create a 2D array using a different using one of the methods from section 2.1\n",
        "* Create a new variable containing a slice of the original array\n",
        "* Replace one of the values of the sliced array using the following template:\n",
        "  * `array_slice[index_value] = new_value`\n",
        "* Call the original 2D array and notice if the new_value has been updated  "
      ]
    },
    {
      "cell_type": "code",
      "metadata": {
        "id": "z-vUF1Fus2kC",
        "colab_type": "code",
        "colab": {}
      },
      "source": [
        "## EXERCISE CODE HERE\n",
        "\n"
      ],
      "execution_count": 0,
      "outputs": []
    },
    {
      "cell_type": "markdown",
      "metadata": {
        "id": "AUuFjyldSYsV",
        "colab_type": "text"
      },
      "source": [
        "#### 2.3 Other properties of arrays\n",
        "* An ndarray is a generic multidimensional container for homogeneous data. Every array has a shape (which we discoverd above), a tuple indicating the size of each dimension, and a dtype, an object describing the data type of the array\n",
        "* We can access information on these properties, and alter them, as we will run through below. Operations to reshape the data are common in Deep Learning, and some of the methods used are covered here. \n"
      ]
    },
    {
      "cell_type": "code",
      "metadata": {
        "id": "DjYaanYkYM2v",
        "colab_type": "code",
        "colab": {}
      },
      "source": [
        "# One important thing to note that when we can change an element of the array *inplace*\n",
        "print (\"a before changing an element value in place:\\n\", a)\n",
        "\n",
        "# change the value at the first elements \n",
        "a[0] = 5                 \n",
        "\n",
        "# and show the result \n",
        "print (\"\\na after changing an element value in place:\\n\", a)"
      ],
      "execution_count": 0,
      "outputs": []
    },
    {
      "cell_type": "code",
      "metadata": {
        "id": "Bz7WHxLEUDPV",
        "colab_type": "code",
        "colab": {}
      },
      "source": [
        "# we can access the data type of an array using '.dtype'\n",
        "print(\"Data type of a: \", a.dtype)"
      ],
      "execution_count": 0,
      "outputs": []
    },
    {
      "cell_type": "code",
      "metadata": {
        "id": "9NgJDlen4KA2",
        "colab_type": "code",
        "colab": {}
      },
      "source": [
        "# note that numpy automatically assigned us the data type - but we can specify it\n",
        "a_float = np.array(a, dtype=np.float64)\n",
        "\n",
        "# print the datatype\n",
        "print(a_float.dtype)\n",
        "\n",
        "# and we can see that the array has a decimal point after the number \n",
        "a_float"
      ],
      "execution_count": 0,
      "outputs": []
    },
    {
      "cell_type": "code",
      "metadata": {
        "id": "tLyzikOU4TuD",
        "colab_type": "code",
        "colab": {}
      },
      "source": [
        "# we can explicitly convert or cast an array from one dtype to another using ndarray’s astype method\n",
        "a_int32 = a_float.astype(np.int32)\n",
        "\n",
        "# print the dtype\n",
        "print(a_int32.dtype)\n",
        "\n",
        "# and we can see that the numbers have been converted back to integers \n",
        "a_int32"
      ],
      "execution_count": 0,
      "outputs": []
    },
    {
      "cell_type": "code",
      "metadata": {
        "id": "DyYiJpyE4jcK",
        "colab_type": "code",
        "colab": {}
      },
      "source": [
        "# Converting from strings to numbers can also be useful\n",
        "numeric_strings = np.array(['1.25', '-9.6', '42'], dtype=np.string_)\n",
        "\n",
        "# here we use 'float', we could use np.float\n",
        "numeric_strings.astype(float)"
      ],
      "execution_count": 0,
      "outputs": []
    },
    {
      "cell_type": "code",
      "metadata": {
        "id": "eGmL0LMV36MX",
        "colab_type": "code",
        "colab": {}
      },
      "source": [
        "# earlier we looked at the .shape attribute. Lets now look at how to reshape numpy arrays \n",
        "print(j.shape)\n",
        "\n",
        "# reshape - noting that the new shape must 'fit' the same number of values \n",
        "k = j.reshape(6,2)\n",
        "k"
      ],
      "execution_count": 0,
      "outputs": []
    },
    {
      "cell_type": "code",
      "metadata": {
        "id": "eC1hb5c4wwY0",
        "colab_type": "code",
        "colab": {}
      },
      "source": [
        "# passing -1 as the second parameter means numpy will infer the size of the second value\n",
        "# this is useful if you have large array \n",
        "\n",
        "l = np.arange(1500).reshape(2,-1)\n",
        "l.shape"
      ],
      "execution_count": 0,
      "outputs": []
    },
    {
      "cell_type": "code",
      "metadata": {
        "id": "O4kMKr1xxjv-",
        "colab_type": "code",
        "colab": {}
      },
      "source": [
        "# we can join two different arrays either vertically (axis 0) or horizontally (axis 1)\n",
        "m = np.array([np.arange(0,3),np.arange(3,6), np.arange(6,9)])\n",
        "n = np.random.random((3,3))"
      ],
      "execution_count": 0,
      "outputs": []
    },
    {
      "cell_type": "code",
      "metadata": {
        "id": "NhvMJjNBzD7Y",
        "colab_type": "code",
        "colab": {}
      },
      "source": [
        "# join - 'stack' vertically - note it takes a tuple as an argument \n",
        "o = np.vstack((m,n))\n",
        "o"
      ],
      "execution_count": 0,
      "outputs": []
    },
    {
      "cell_type": "code",
      "metadata": {
        "id": "q3VUX0oazxBm",
        "colab_type": "code",
        "colab": {}
      },
      "source": [
        "# stack horizontally\n",
        "p = np.hstack((m,n))\n",
        "p"
      ],
      "execution_count": 0,
      "outputs": []
    },
    {
      "cell_type": "code",
      "metadata": {
        "id": "3DTa6PXmz9H0",
        "colab_type": "code",
        "colab": {}
      },
      "source": [
        "# we can then use .ravel() or .flatten() to return 1D arrays\n",
        "q = o.ravel()\n",
        "q"
      ],
      "execution_count": 0,
      "outputs": []
    },
    {
      "cell_type": "code",
      "metadata": {
        "id": "12zseK9m0HMz",
        "colab_type": "code",
        "colab": {}
      },
      "source": [
        "# flatten returns a copy of the array, ravel does not - otherwise they perform the same\n",
        "r = p.flatten()\n",
        "r"
      ],
      "execution_count": 0,
      "outputs": []
    },
    {
      "cell_type": "markdown",
      "metadata": {
        "id": "38D2S3Lmsg8R",
        "colab_type": "text"
      },
      "source": [
        "#### EXERCISE 2.3: Properties of Arrays\n",
        "* Create two 2D arrays\n",
        "* Reshape one or both of them \n",
        "* Stack them together\n",
        "* Convert this array to a 1D array "
      ]
    },
    {
      "cell_type": "code",
      "metadata": {
        "id": "9D5cbpgTshIf",
        "colab_type": "code",
        "colab": {}
      },
      "source": [
        "## EXERCISE CODE HERE \n",
        "\n"
      ],
      "execution_count": 0,
      "outputs": []
    },
    {
      "cell_type": "markdown",
      "metadata": {
        "id": "YeOZr6HjsUCm",
        "colab_type": "text"
      },
      "source": [
        "### 3. Performing Operations on Arrays\n",
        "\n",
        "* We can perform a range of operations on arrays, including: \n",
        "  * Arithmetic operations between arrays\n",
        "  * Boolean operations \n",
        "  * Universal functions\n",
        "  * Mathematical and Statistical operations \n",
        "* We will cover examples of these below; these are not the only operations that can be performed but will provide you with a good toolkit for a range of operations."
      ]
    },
    {
      "cell_type": "code",
      "metadata": {
        "id": "7jXNSx_X0s3i",
        "colab_type": "code",
        "colab": {}
      },
      "source": [
        "# Any arithmetic operations between equal-size arrays applies the operation element-wise:\n",
        "r + q"
      ],
      "execution_count": 0,
      "outputs": []
    },
    {
      "cell_type": "code",
      "metadata": {
        "id": "Wg28jq-t43jS",
        "colab_type": "code",
        "colab": {}
      },
      "source": [
        "# we can also use universal functions (ufuncs), a function that performs element-wise operations on data in ndarrays\n",
        "np.add(m,n)"
      ],
      "execution_count": 0,
      "outputs": []
    },
    {
      "cell_type": "code",
      "metadata": {
        "id": "QFAHuQBV0uEW",
        "colab_type": "code",
        "colab": {}
      },
      "source": [
        "# the same applies to other arithmetic functions\n",
        "m * n "
      ],
      "execution_count": 0,
      "outputs": []
    },
    {
      "cell_type": "code",
      "metadata": {
        "id": "MpSgqcv96nu6",
        "colab_type": "code",
        "colab": {}
      },
      "source": [
        "# with the ufunc equivalent \n",
        "np.multiply(r,q)"
      ],
      "execution_count": 0,
      "outputs": []
    },
    {
      "cell_type": "code",
      "metadata": {
        "id": "vJaNh7Bq41SO",
        "colab_type": "code",
        "colab": {}
      },
      "source": [
        "# the same principles apply to subtraction and division \n",
        "# Arithmetic operations with scalars apply the scalar argument to each element in the array\n",
        "1 / a"
      ],
      "execution_count": 0,
      "outputs": []
    },
    {
      "cell_type": "code",
      "metadata": {
        "id": "z6ibKEdU7Js4",
        "colab_type": "code",
        "colab": {}
      },
      "source": [
        "# another example, raising a to the power 0.5\n",
        "a ** 0.5"
      ],
      "execution_count": 0,
      "outputs": []
    },
    {
      "cell_type": "code",
      "metadata": {
        "id": "2TqrDJc97WmY",
        "colab_type": "code",
        "colab": {}
      },
      "source": [
        "# here are a couple more examples \n",
        "np.exp(a)"
      ],
      "execution_count": 0,
      "outputs": []
    },
    {
      "cell_type": "code",
      "metadata": {
        "id": "0YyoDhWEIo8i",
        "colab_type": "code",
        "colab": {}
      },
      "source": [
        "# Elementwise square root\n",
        "np.sqrt(r)"
      ],
      "execution_count": 0,
      "outputs": []
    },
    {
      "cell_type": "code",
      "metadata": {
        "id": "v_ubq_FM99rD",
        "colab_type": "code",
        "colab": {}
      },
      "source": [
        "# create two arrays\n",
        "s = np.random.randn(8)\n",
        "t = np.random.randn(8)\n",
        "\n",
        "# compares the arrays \n",
        "np.maximum(s, t)"
      ],
      "execution_count": 0,
      "outputs": []
    },
    {
      "cell_type": "code",
      "metadata": {
        "id": "VAcLTILiAP7y",
        "colab_type": "code",
        "colab": {}
      },
      "source": [
        "# statistical methods are available, such as mean(), sum() and cumsum() - cumulative sum()\n",
        "a.mean()"
      ],
      "execution_count": 0,
      "outputs": []
    },
    {
      "cell_type": "code",
      "metadata": {
        "id": "WsmOzJMf-2yN",
        "colab_type": "code",
        "colab": {}
      },
      "source": [
        "# this format also works for all the statistical methods\n",
        "np.sum(a)"
      ],
      "execution_count": 0,
      "outputs": []
    },
    {
      "cell_type": "code",
      "metadata": {
        "id": "iW9gty247Gbb",
        "colab_type": "code",
        "colab": {}
      },
      "source": [
        "# we can use boolean operations to filter valies\n",
        "u = np.array([[1,2], [3, 4], [5, 6]])\n",
        "\n",
        "# first find the elements of a that are bigger than 2\n",
        "print(\"Find elements of array bigger than 2\")\n",
        "print((u > 2))"
      ],
      "execution_count": 0,
      "outputs": []
    },
    {
      "cell_type": "code",
      "metadata": {
        "id": "mpd_wcr07kpS",
        "colab_type": "code",
        "colab": {}
      },
      "source": [
        "# then use the mask to get the actual value\n",
        "print(\"Values of array elements bigger than 2\")\n",
        "print(u[u > 2])"
      ],
      "execution_count": 0,
      "outputs": []
    },
    {
      "cell_type": "markdown",
      "metadata": {
        "id": "kLV1BiNmuyRD",
        "colab_type": "text"
      },
      "source": [
        "#### EXERCISE: Performing Operations on Arrays\n",
        "* Create two arrays\n",
        "* Perform an operation between the two arrays\n",
        "* Apply a scalar operation to one of the arrays\n",
        "* Use boolean indexing to select a subset of one of the arrays"
      ]
    },
    {
      "cell_type": "code",
      "metadata": {
        "id": "XH8LnNiHu42u",
        "colab_type": "code",
        "colab": {}
      },
      "source": [
        "## EXERCISE CODE GOES HERE \n",
        "\n",
        "\n"
      ],
      "execution_count": 0,
      "outputs": []
    },
    {
      "cell_type": "markdown",
      "metadata": {
        "id": "rX3PrnWBs411",
        "colab_type": "text"
      },
      "source": [
        "### Review and Further Reading\n",
        "* We now have a good background in numpy, in particular what the library is and the benefit of vectorized operations over the approach taken by python on its own; how to create and locate values in arrays; how to perform operations on arrays; and how to broadcast between different numpy arrays.\n",
        "* There is of course much more to learn. We would suggest looking next at:\n",
        "  * `fancy indexing`\n",
        "  * `Broadcasting` \n",
        "  * Exploring `ufuncs`, mathematical and statistical operations in greater detail\n",
        "  * Array-Oriented Programming with Arrays\n",
        "  * Expressing Conditional Logic as Array Operations\n",
        "  * Linear Algebra\n",
        "\n",
        "\n",
        "\n",
        "* Here are some follow-up resources:\n",
        "  * http://cs231n.github.io/python-numpy-tutorial/\n",
        "  * the books linked to at the start of the tutorial\n",
        "\n"
      ]
    },
    {
      "cell_type": "code",
      "metadata": {
        "id": "IdNPePWB_fcl",
        "colab_type": "code",
        "colab": {}
      },
      "source": [
        ""
      ],
      "execution_count": 0,
      "outputs": []
    }
  ]
}